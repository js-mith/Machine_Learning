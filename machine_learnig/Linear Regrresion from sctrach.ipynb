{
 "cells": [
  {
   "cell_type": "code",
   "execution_count": 8,
   "id": "9f276f67",
   "metadata": {},
   "outputs": [],
   "source": [
    "import numpy as np\n",
    "import pandas as pd\n",
    "import matplotlib.pyplot as plt\n"
   ]
  },
  {
   "cell_type": "code",
   "execution_count": 9,
   "id": "08b8bf6f",
   "metadata": {},
   "outputs": [],
   "source": [
    "data = np.loadtxt(\"data.csv\" , delimiter = \",\")"
   ]
  },
  {
   "cell_type": "code",
   "execution_count": 13,
   "id": "d18d5bf2",
   "metadata": {},
   "outputs": [],
   "source": [
    "x = data[:,0]\n",
    "y= data[:,1]"
   ]
  },
  {
   "cell_type": "code",
   "execution_count": 14,
   "id": "7cc27c28",
   "metadata": {},
   "outputs": [
    {
     "data": {
      "text/plain": [
       "(100,)"
      ]
     },
     "execution_count": 14,
     "metadata": {},
     "output_type": "execute_result"
    }
   ],
   "source": [
    "x.shape"
   ]
  },
  {
   "cell_type": "code",
   "execution_count": 16,
   "id": "3fc56d3d",
   "metadata": {},
   "outputs": [
    {
     "data": {
      "text/plain": [
       "(70,)"
      ]
     },
     "execution_count": 16,
     "metadata": {},
     "output_type": "execute_result"
    }
   ],
   "source": [
    "from sklearn import model_selection\n",
    "x_train , x_test , y_train , y_test = model_selection.train_test_split(x,y,test_size =0.3)\n",
    "x_train.shape\n"
   ]
  },
  {
   "cell_type": "code",
   "execution_count": 17,
   "id": "1da6431e",
   "metadata": {},
   "outputs": [],
   "source": [
    "# This function is used to find the best fit line using the training data\n",
    "def fit(x_train, y_train):\n",
    "    num = (x_train * y_train).mean() - x_train.mean() * y_train.mean()\n",
    "    den = (x_train ** 2).mean() - x_train.mean() ** 2\n",
    "    m = num / den\n",
    "    c = y_train.mean() - m * x_train.mean()\n",
    "    return m, c    \n"
   ]
  },
  {
   "cell_type": "code",
   "execution_count": 18,
   "id": "ee614512",
   "metadata": {},
   "outputs": [],
   "source": [
    "# This function predicts the value of 'y' corresponding to each 'x'\n",
    "def predict(x, m, c):\n",
    "    return m * x + c\n"
   ]
  },
  {
   "cell_type": "code",
   "execution_count": 19,
   "id": "339c2fc0",
   "metadata": {},
   "outputs": [],
   "source": [
    "# This function returns the score using the Y(actual) and Y(predited), coefficient of determination.\n",
    "def score(y_truth, y_pred): \n",
    "    u = ((y_truth - y_pred)**2).sum()\n",
    "    v = ((y_truth - y_truth.mean())**2).sum()\n",
    "    return 1 - u/v\n"
   ]
  },
  {
   "cell_type": "code",
   "execution_count": 20,
   "id": "15c61d0b",
   "metadata": {},
   "outputs": [],
   "source": [
    "def cost (x, y, m , c):\n",
    "    return ((y - m * x - c)**2).mean()\n"
   ]
  },
  {
   "cell_type": "code",
   "execution_count": 22,
   "id": "c660fb9f",
   "metadata": {},
   "outputs": [
    {
     "name": "stdout",
     "output_type": "stream",
     "text": [
      "Test Score:  -0.8394759633480644\n",
      "Train Score: -1.9362732378742988\n",
      "M: 1.0\n",
      "C: 0.0\n",
      "Cost on training data: 696.9197849138965\n"
     ]
    },
    {
     "ename": "NameError",
     "evalue": "name 'mse_self_implement' is not defined",
     "output_type": "error",
     "traceback": [
      "\u001b[1;31m---------------------------------------------------------------------------\u001b[0m",
      "\u001b[1;31mNameError\u001b[0m                                 Traceback (most recent call last)",
      "Cell \u001b[1;32mIn[22], line 16\u001b[0m\n\u001b[0;32m     14\u001b[0m mse_classifier \u001b[38;5;241m=\u001b[39m mean_squared_error(y_test, y_test_pred)\n\u001b[0;32m     15\u001b[0m \u001b[38;5;66;03m# We calculated MSE earlier (In self implementation) \u001b[39;00m\n\u001b[1;32m---> 16\u001b[0m \u001b[38;5;28mprint\u001b[39m(\u001b[38;5;124m\"\u001b[39m\u001b[38;5;124mMSE calculated using self implemented code :\u001b[39m\u001b[38;5;124m\"\u001b[39m,\u001b[43mmse_self_implement\u001b[49m)\n\u001b[0;32m     17\u001b[0m \u001b[38;5;28mprint\u001b[39m(\u001b[38;5;124m\"\u001b[39m\u001b[38;5;124mMSE calculated using Sklearn\u001b[39m\u001b[38;5;124m'\u001b[39m\u001b[38;5;124ms implementation:\u001b[39m\u001b[38;5;124m\"\u001b[39m, mse)\n",
      "\u001b[1;31mNameError\u001b[0m: name 'mse_self_implement' is not defined"
     ]
    }
   ],
   "source": [
    "m, c = fit(x_train, x_train)\n",
    "# Test data\n",
    "y_test_pred = predict(x_test, m, c)\n",
    "print(\"Test Score: \",score(y_test, y_test_pred))\n",
    "\n",
    "# Train data\n",
    "y_train_pred = predict(x_train, m, c)\n",
    "print(\"Train Score:\", score(y_train, y_train_pred))\n",
    "print(\"M:\", m)\n",
    "print(\"C:\", c)\n",
    "print(\"Cost on training data:\", cost(x_train,y_train, m, c ))\n",
    "\n",
    "from sklearn.metrics import mean_squared_error\n",
    "mse_classifier = mean_squared_error(y_test, y_test_pred)\n",
    "# We calculated MSE earlier (In self implementation) \n",
    "print(\"MSE calculated using self implemented code :\",mse_self_implement)\n",
    "print(\"MSE calculated using Sklearn's implementation:\", mse)"
   ]
  }
 ],
 "metadata": {
  "kernelspec": {
   "display_name": "Python 3 (ipykernel)",
   "language": "python",
   "name": "python3"
  },
  "language_info": {
   "codemirror_mode": {
    "name": "ipython",
    "version": 3
   },
   "file_extension": ".py",
   "mimetype": "text/x-python",
   "name": "python",
   "nbconvert_exporter": "python",
   "pygments_lexer": "ipython3",
   "version": "3.10.9"
  }
 },
 "nbformat": 4,
 "nbformat_minor": 5
}
