{
 "cells": [
  {
   "cell_type": "code",
   "execution_count": 8,
   "id": "5d9ea461",
   "metadata": {},
   "outputs": [],
   "source": [
    "from sklearn import datasets\n",
    "from sklearn.model_selection import train_test_split\n",
    "from sklearn.model_selection import cross_val_score\n",
    "from sklearn.neighbors import KNeighborsClassifier"
   ]
  },
  {
   "cell_type": "code",
   "execution_count": 9,
   "id": "ed4e4963",
   "metadata": {},
   "outputs": [
    {
     "data": {
      "text/plain": [
       "array([0, 0, 0, 0, 0, 0, 0, 0, 0, 0, 0, 0, 0, 0, 0, 0, 0, 0, 0, 1, 1, 1,\n",
       "       0, 0, 0, 0, 0, 0, 0, 0, 0, 0, 0, 0, 0, 0, 0, 1, 0, 0, 0, 0, 0, 0,\n",
       "       0, 0, 1, 0, 1, 1, 1, 1, 1, 0, 0, 1, 0, 0, 1, 1, 1, 1, 0, 1, 0, 0,\n",
       "       1, 1, 1, 1, 0, 1, 0, 0, 1, 0, 1, 0, 0, 1, 1, 1, 0, 0, 1, 0, 0, 0,\n",
       "       1, 1, 1, 0, 1, 1, 0, 0, 1, 1, 1, 0, 0, 1, 1, 1, 1, 0, 1, 1, 0, 1,\n",
       "       1, 1, 1, 1, 1, 1, 1, 0, 0, 0, 1, 0, 0, 1, 1, 1, 0, 0, 1, 0, 1, 0,\n",
       "       0, 1, 0, 0, 1, 1, 0, 1, 1, 0, 1, 1, 1, 1, 0, 1, 1, 1, 1, 1, 1, 1,\n",
       "       1, 1, 0, 1, 1, 1, 1, 0, 0, 1, 0, 1, 1, 0, 0, 1, 1, 0, 0, 1, 1, 1,\n",
       "       1, 0, 1, 1, 0, 0, 0, 1, 0, 1, 0, 1, 1, 1, 0, 1, 1, 0, 0, 1, 0, 0,\n",
       "       0, 0, 1, 0, 0, 0, 1, 0, 1, 0, 1, 1, 0, 1, 0, 0, 0, 0, 1, 1, 0, 0,\n",
       "       1, 1, 1, 0, 1, 1, 1, 1, 1, 0, 0, 1, 1, 0, 1, 1, 0, 0, 1, 0, 1, 1,\n",
       "       1, 1, 0, 1, 1, 1, 1, 1, 0, 1, 0, 0, 0, 0, 0, 0, 0, 0, 0, 0, 0, 0,\n",
       "       0, 0, 1, 1, 1, 1, 1, 1, 0, 1, 0, 1, 1, 0, 1, 1, 0, 1, 0, 0, 1, 1,\n",
       "       1, 1, 1, 1, 1, 1, 1, 1, 1, 1, 1, 0, 1, 1, 0, 1, 0, 1, 1, 1, 1, 1,\n",
       "       1, 1, 1, 1, 1, 1, 1, 1, 1, 0, 1, 1, 1, 0, 1, 0, 1, 1, 1, 1, 0, 0,\n",
       "       0, 1, 1, 1, 1, 0, 1, 0, 1, 0, 1, 1, 1, 0, 1, 1, 1, 1, 1, 1, 1, 0,\n",
       "       0, 0, 1, 1, 1, 1, 1, 1, 1, 1, 1, 1, 1, 0, 0, 1, 0, 0, 0, 1, 0, 0,\n",
       "       1, 1, 1, 1, 1, 0, 1, 1, 1, 1, 1, 0, 1, 1, 1, 0, 1, 1, 0, 0, 1, 1,\n",
       "       1, 1, 1, 1, 0, 1, 1, 1, 1, 1, 1, 1, 0, 1, 1, 1, 1, 1, 0, 1, 1, 0,\n",
       "       1, 1, 1, 1, 1, 1, 1, 1, 1, 1, 1, 1, 0, 1, 0, 0, 1, 0, 1, 1, 1, 1,\n",
       "       1, 0, 1, 1, 0, 1, 0, 1, 1, 0, 1, 0, 1, 1, 1, 1, 1, 1, 1, 1, 0, 0,\n",
       "       1, 1, 1, 1, 1, 1, 0, 1, 1, 1, 1, 1, 1, 1, 1, 1, 1, 0, 1, 1, 1, 1,\n",
       "       1, 1, 1, 0, 1, 0, 1, 1, 0, 1, 1, 1, 1, 1, 0, 0, 1, 0, 1, 0, 1, 1,\n",
       "       1, 1, 1, 0, 1, 1, 0, 1, 0, 1, 0, 0, 1, 1, 1, 0, 1, 1, 1, 1, 1, 1,\n",
       "       1, 1, 1, 1, 1, 0, 1, 0, 0, 1, 1, 1, 1, 1, 1, 1, 1, 1, 1, 1, 1, 1,\n",
       "       1, 1, 1, 1, 1, 1, 1, 1, 1, 1, 1, 1, 0, 0, 0, 0, 0, 0, 1])"
      ]
     },
     "execution_count": 9,
     "metadata": {},
     "output_type": "execute_result"
    }
   ],
   "source": [
    "dataset = datasets.load_breast_cancer()\n",
    "dataset.target"
   ]
  },
  {
   "cell_type": "code",
   "execution_count": 10,
   "id": "8a9df82c",
   "metadata": {},
   "outputs": [],
   "source": [
    "X_train,X_test,Y_train,Y_test = train_test_split(dataset.data ,dataset.target , test_size = 0.2 , random_state = 0)"
   ]
  },
  {
   "cell_type": "code",
   "execution_count": 11,
   "id": "8726c32f",
   "metadata": {},
   "outputs": [
    {
     "data": {
      "text/html": [
       "<style>#sk-container-id-2 {color: black;background-color: white;}#sk-container-id-2 pre{padding: 0;}#sk-container-id-2 div.sk-toggleable {background-color: white;}#sk-container-id-2 label.sk-toggleable__label {cursor: pointer;display: block;width: 100%;margin-bottom: 0;padding: 0.3em;box-sizing: border-box;text-align: center;}#sk-container-id-2 label.sk-toggleable__label-arrow:before {content: \"▸\";float: left;margin-right: 0.25em;color: #696969;}#sk-container-id-2 label.sk-toggleable__label-arrow:hover:before {color: black;}#sk-container-id-2 div.sk-estimator:hover label.sk-toggleable__label-arrow:before {color: black;}#sk-container-id-2 div.sk-toggleable__content {max-height: 0;max-width: 0;overflow: hidden;text-align: left;background-color: #f0f8ff;}#sk-container-id-2 div.sk-toggleable__content pre {margin: 0.2em;color: black;border-radius: 0.25em;background-color: #f0f8ff;}#sk-container-id-2 input.sk-toggleable__control:checked~div.sk-toggleable__content {max-height: 200px;max-width: 100%;overflow: auto;}#sk-container-id-2 input.sk-toggleable__control:checked~label.sk-toggleable__label-arrow:before {content: \"▾\";}#sk-container-id-2 div.sk-estimator input.sk-toggleable__control:checked~label.sk-toggleable__label {background-color: #d4ebff;}#sk-container-id-2 div.sk-label input.sk-toggleable__control:checked~label.sk-toggleable__label {background-color: #d4ebff;}#sk-container-id-2 input.sk-hidden--visually {border: 0;clip: rect(1px 1px 1px 1px);clip: rect(1px, 1px, 1px, 1px);height: 1px;margin: -1px;overflow: hidden;padding: 0;position: absolute;width: 1px;}#sk-container-id-2 div.sk-estimator {font-family: monospace;background-color: #f0f8ff;border: 1px dotted black;border-radius: 0.25em;box-sizing: border-box;margin-bottom: 0.5em;}#sk-container-id-2 div.sk-estimator:hover {background-color: #d4ebff;}#sk-container-id-2 div.sk-parallel-item::after {content: \"\";width: 100%;border-bottom: 1px solid gray;flex-grow: 1;}#sk-container-id-2 div.sk-label:hover label.sk-toggleable__label {background-color: #d4ebff;}#sk-container-id-2 div.sk-serial::before {content: \"\";position: absolute;border-left: 1px solid gray;box-sizing: border-box;top: 0;bottom: 0;left: 50%;z-index: 0;}#sk-container-id-2 div.sk-serial {display: flex;flex-direction: column;align-items: center;background-color: white;padding-right: 0.2em;padding-left: 0.2em;position: relative;}#sk-container-id-2 div.sk-item {position: relative;z-index: 1;}#sk-container-id-2 div.sk-parallel {display: flex;align-items: stretch;justify-content: center;background-color: white;position: relative;}#sk-container-id-2 div.sk-item::before, #sk-container-id-2 div.sk-parallel-item::before {content: \"\";position: absolute;border-left: 1px solid gray;box-sizing: border-box;top: 0;bottom: 0;left: 50%;z-index: -1;}#sk-container-id-2 div.sk-parallel-item {display: flex;flex-direction: column;z-index: 1;position: relative;background-color: white;}#sk-container-id-2 div.sk-parallel-item:first-child::after {align-self: flex-end;width: 50%;}#sk-container-id-2 div.sk-parallel-item:last-child::after {align-self: flex-start;width: 50%;}#sk-container-id-2 div.sk-parallel-item:only-child::after {width: 0;}#sk-container-id-2 div.sk-dashed-wrapped {border: 1px dashed gray;margin: 0 0.4em 0.5em 0.4em;box-sizing: border-box;padding-bottom: 0.4em;background-color: white;}#sk-container-id-2 div.sk-label label {font-family: monospace;font-weight: bold;display: inline-block;line-height: 1.2em;}#sk-container-id-2 div.sk-label-container {text-align: center;}#sk-container-id-2 div.sk-container {/* jupyter's `normalize.less` sets `[hidden] { display: none; }` but bootstrap.min.css set `[hidden] { display: none !important; }` so we also need the `!important` here to be able to override the default hidden behavior on the sphinx rendered scikit-learn.org. See: https://github.com/scikit-learn/scikit-learn/issues/21755 */display: inline-block !important;position: relative;}#sk-container-id-2 div.sk-text-repr-fallback {display: none;}</style><div id=\"sk-container-id-2\" class=\"sk-top-container\"><div class=\"sk-text-repr-fallback\"><pre>KNeighborsClassifier()</pre><b>In a Jupyter environment, please rerun this cell to show the HTML representation or trust the notebook. <br />On GitHub, the HTML representation is unable to render, please try loading this page with nbviewer.org.</b></div><div class=\"sk-container\" hidden><div class=\"sk-item\"><div class=\"sk-estimator sk-toggleable\"><input class=\"sk-toggleable__control sk-hidden--visually\" id=\"sk-estimator-id-2\" type=\"checkbox\" checked><label for=\"sk-estimator-id-2\" class=\"sk-toggleable__label sk-toggleable__label-arrow\">KNeighborsClassifier</label><div class=\"sk-toggleable__content\"><pre>KNeighborsClassifier()</pre></div></div></div></div></div>"
      ],
      "text/plain": [
       "KNeighborsClassifier()"
      ]
     },
     "execution_count": 11,
     "metadata": {},
     "output_type": "execute_result"
    }
   ],
   "source": [
    "clf = KNeighborsClassifier()\n",
    "clf.fit(X_train ,Y_train)\n"
   ]
  },
  {
   "cell_type": "code",
   "execution_count": 12,
   "id": "aca5a573",
   "metadata": {},
   "outputs": [
    {
     "data": {
      "text/plain": [
       "0.9385964912280702"
      ]
     },
     "execution_count": 12,
     "metadata": {},
     "output_type": "execute_result"
    }
   ],
   "source": [
    "clf.score(X_test,Y_test)"
   ]
  },
  {
   "cell_type": "code",
   "execution_count": 14,
   "id": "e085d3f8",
   "metadata": {},
   "outputs": [
    {
     "name": "stdout",
     "output_type": "stream",
     "text": [
      "K =  1\n",
      "Scores : \n",
      "[0.93478261 0.95652174 0.91304348 0.84782609 0.86956522 0.93333333\n",
      " 0.97777778 0.91111111 0.93333333 0.93333333]\n",
      "Mean Score =  0.9210628019323671\n",
      "\n",
      "K =  3\n",
      "Scores : \n",
      "[0.91304348 0.95652174 0.86956522 0.93478261 0.89130435 0.95555556\n",
      " 0.95555556 0.88888889 0.95555556 0.95555556]\n",
      "Mean Score =  0.927632850241546\n",
      "\n",
      "K =  5\n",
      "Scores : \n",
      "[0.95652174 0.97826087 0.86956522 0.91304348 0.91304348 0.93333333\n",
      " 0.97777778 0.86666667 0.95555556 0.91111111]\n",
      "Mean Score =  0.9274879227053141\n",
      "\n",
      "K =  7\n",
      "Scores : \n",
      "[0.95652174 0.95652174 0.89130435 0.91304348 0.89130435 0.97777778\n",
      " 0.97777778 0.86666667 0.95555556 0.93333333]\n",
      "Mean Score =  0.9319806763285025\n",
      "\n",
      "K =  9\n",
      "Scores : \n",
      "[0.95652174 0.95652174 0.89130435 0.91304348 0.86956522 0.97777778\n",
      " 0.97777778 0.86666667 0.95555556 0.95555556]\n",
      "Mean Score =  0.9320289855072463\n",
      "\n",
      "K =  11\n",
      "Scores : \n",
      "[0.95652174 0.95652174 0.91304348 0.91304348 0.89130435 0.97777778\n",
      " 0.97777778 0.86666667 0.93333333 0.93333333]\n",
      "Mean Score =  0.9319323671497586\n",
      "\n",
      "K =  13\n",
      "Scores : \n",
      "[0.95652174 0.95652174 0.89130435 0.91304348 0.89130435 0.97777778\n",
      " 0.97777778 0.86666667 0.95555556 0.93333333]\n",
      "Mean Score =  0.9319806763285025\n",
      "\n",
      "K =  15\n",
      "Scores : \n",
      "[0.95652174 0.93478261 0.86956522 0.91304348 0.89130435 0.97777778\n",
      " 0.97777778 0.88888889 0.93333333 0.91111111]\n",
      "Mean Score =  0.9254106280193237\n",
      "\n",
      "K =  17\n",
      "Scores : \n",
      "[0.95652174 0.93478261 0.86956522 0.93478261 0.89130435 0.97777778\n",
      " 0.97777778 0.88888889 0.93333333 0.91111111]\n",
      "Mean Score =  0.9275845410628019\n",
      "\n",
      "K =  19\n",
      "Scores : \n",
      "[0.95652174 0.93478261 0.86956522 0.91304348 0.86956522 0.97777778\n",
      " 0.97777778 0.88888889 0.93333333 0.91111111]\n",
      "Mean Score =  0.9232367149758455\n",
      "\n",
      "K =  21\n",
      "Scores : \n",
      "[0.95652174 0.93478261 0.86956522 0.91304348 0.86956522 0.97777778\n",
      " 0.97777778 0.86666667 0.93333333 0.91111111]\n",
      "Mean Score =  0.9210144927536232\n",
      "\n",
      "K =  23\n",
      "Scores : \n",
      "[0.95652174 0.93478261 0.86956522 0.91304348 0.86956522 0.97777778\n",
      " 0.97777778 0.84444444 0.93333333 0.91111111]\n",
      "Mean Score =  0.918792270531401\n",
      "\n",
      "K =  25\n",
      "Scores : \n",
      "[0.95652174 0.93478261 0.86956522 0.91304348 0.84782609 0.97777778\n",
      " 0.97777778 0.84444444 0.93333333 0.91111111]\n",
      "Mean Score =  0.9166183574879228\n",
      "\n",
      "K =  27\n",
      "Scores : \n",
      "[0.95652174 0.93478261 0.89130435 0.91304348 0.84782609 0.95555556\n",
      " 0.97777778 0.84444444 0.93333333 0.91111111]\n",
      "Mean Score =  0.9165700483091788\n",
      "\n",
      "K =  29\n",
      "Scores : \n",
      "[0.95652174 0.93478261 0.89130435 0.91304348 0.84782609 0.95555556\n",
      " 0.97777778 0.84444444 0.93333333 0.91111111]\n",
      "Mean Score =  0.9165700483091788\n",
      "\n",
      "K =  31\n",
      "Scores : \n",
      "[0.93478261 0.93478261 0.89130435 0.91304348 0.84782609 0.95555556\n",
      " 0.97777778 0.84444444 0.93333333 0.91111111]\n",
      "Mean Score =  0.9143961352657005\n",
      "\n",
      "K =  33\n",
      "Scores : \n",
      "[0.93478261 0.93478261 0.89130435 0.91304348 0.84782609 0.95555556\n",
      " 0.97777778 0.84444444 0.93333333 0.91111111]\n",
      "Mean Score =  0.9143961352657005\n",
      "\n",
      "K =  35\n",
      "Scores : \n",
      "[0.95652174 0.93478261 0.89130435 0.91304348 0.84782609 0.95555556\n",
      " 0.97777778 0.86666667 0.93333333 0.91111111]\n",
      "Mean Score =  0.918792270531401\n",
      "\n",
      "K =  37\n",
      "Scores : \n",
      "[0.93478261 0.93478261 0.91304348 0.91304348 0.84782609 0.95555556\n",
      " 0.95555556 0.84444444 0.93333333 0.91111111]\n",
      "Mean Score =  0.9143478260869566\n",
      "\n",
      "K =  39\n",
      "Scores : \n",
      "[0.93478261 0.93478261 0.89130435 0.89130435 0.84782609 0.95555556\n",
      " 0.95555556 0.86666667 0.93333333 0.91111111]\n",
      "Mean Score =  0.9122222222222224\n",
      "\n",
      "K =  41\n",
      "Scores : \n",
      "[0.93478261 0.91304348 0.91304348 0.86956522 0.86956522 0.95555556\n",
      " 0.95555556 0.86666667 0.93333333 0.91111111]\n",
      "Mean Score =  0.9122222222222222\n",
      "\n",
      "K =  43\n",
      "Scores : \n",
      "[0.93478261 0.91304348 0.91304348 0.86956522 0.84782609 0.95555556\n",
      " 0.95555556 0.86666667 0.93333333 0.91111111]\n",
      "Mean Score =  0.910048309178744\n",
      "\n",
      "K =  45\n",
      "Scores : \n",
      "[0.91304348 0.91304348 0.91304348 0.86956522 0.84782609 0.95555556\n",
      " 0.95555556 0.86666667 0.93333333 0.91111111]\n",
      "Mean Score =  0.9078743961352658\n",
      "\n",
      "K =  47\n",
      "Scores : \n",
      "[0.91304348 0.91304348 0.93478261 0.89130435 0.84782609 0.95555556\n",
      " 0.95555556 0.86666667 0.93333333 0.91111111]\n",
      "Mean Score =  0.9122222222222224\n",
      "\n",
      "K =  49\n",
      "Scores : \n",
      "[0.91304348 0.93478261 0.93478261 0.89130435 0.84782609 0.95555556\n",
      " 0.95555556 0.86666667 0.93333333 0.91111111]\n",
      "Mean Score =  0.9143961352657005\n",
      "\n"
     ]
    }
   ],
   "source": [
    "x_axis = []\n",
    "k_scores = []\n",
    "for k in range(1,50, 2):\n",
    "    x_axis.append(k)\n",
    "    clf = KNeighborsClassifier(n_neighbors=k)\n",
    "    scores = cross_val_score(clf, X_train, Y_train, cv=10, scoring='accuracy')\n",
    "    k_scores.append(scores.mean())\n",
    "    \n",
    "    #Printing values\n",
    "    print(\"K = \",k)\n",
    "    print(\"Scores : \")\n",
    "    print(scores)\n",
    "    print(\"Mean Score = \",scores.mean())\n",
    "    print()"
   ]
  },
  {
   "cell_type": "code",
   "execution_count": 16,
   "id": "225277e3",
   "metadata": {},
   "outputs": [
    {
     "data": {
      "image/png": "[encoded data removed]",
      "text/plain": [
       "<Figure size 640x480 with 1 Axes>"
      ]
     },
     "metadata": {},
     "output_type": "display_data"
    }
   ],
   "source": [
    "import matplotlib.pyplot as plt\n",
    "plt.plot(x_axis,k_scores)\n",
    "plt.show()"
   ]
  },
  {
   "cell_type": "code",
   "execution_count": 17,
   "id": "14dd9925",
   "metadata": {},
   "outputs": [
    {
     "data": {
      "text/plain": [
       "9"
      ]
     },
     "execution_count": 17,
     "metadata": {},
     "output_type": "execute_result"
    }
   ],
   "source": [
    "optimal_k = x_axis[k_scores.index(max(k_scores))]\n",
    "optimal_k"
   ]
  }
 ],
 "metadata": {
  "kernelspec": {
   "display_name": "Python 3 (ipykernel)",
   "language": "python",
   "name": "python3"
  },
  "language_info": {
   "codemirror_mode": {
    "name": "ipython",
    "version": 3
   },
   "file_extension": ".py",
   "mimetype": "text/x-python",
   "name": "python",
   "nbconvert_exporter": "python",
   "pygments_lexer": "ipython3",
   "version": "3.10.9"
  }
 },
 "nbformat": 4,
 "nbformat_minor": 5
}
